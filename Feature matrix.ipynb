{
 "cells": [
  {
   "cell_type": "markdown",
   "metadata": {},
   "source": [
    "# Number Concept\n",
    "Based on measure from Miller, K., & Gelman, R. (1983). The child's representation of number: A multidimensional scaling analysis. Child development, 1470-1479. [[link]](http://files.eric.ed.gov/fulltext/ED221271.pdf)\n",
    "\n",
    "\n",
    "### Feature matrix"
   ]
  },
  {
   "cell_type": "code",
   "execution_count": 1,
   "metadata": {},
   "outputs": [
    {
     "name": "stdout",
     "output_type": "stream",
     "text": [
      "Populating the interactive namespace from numpy and matplotlib\n"
     ]
    }
   ],
   "source": [
    "import numpy as np\n",
    "from representations import mds, plot_dendrogram\n",
    "import csv\n",
    "import numpy as np\n",
    "%pylab inline\n",
    "import matplotlib.pyplot as plt"
   ]
  },
  {
   "cell_type": "code",
   "execution_count": 2,
   "metadata": {
    "collapsed": true
   },
   "outputs": [],
   "source": [
    "# testing whether number is prime\n",
    "def is_prime(n):\n",
    "    for i in range(2, n):\n",
    "        if n % i == 0:\n",
    "            return False\n",
    "    return True"
   ]
  },
  {
   "cell_type": "code",
   "execution_count": 3,
   "metadata": {
    "scrolled": true
   },
   "outputs": [
    {
     "data": {
      "text/plain": [
       "array([[1., 0., 0., 1., 0., 0., 0., 0., 0., 0., 1.],\n",
       "       [1., 0., 0., 0., 1., 1., 0., 0., 0., 0., 1.],\n",
       "       [1., 0., 0., 1., 0., 0., 1., 0., 0., 1., 0.],\n",
       "       [1., 0., 0., 0., 1., 0., 0., 1., 0., 0., 1.],\n",
       "       [1., 0., 0., 1., 0., 1., 0., 0., 0., 0., 0.],\n",
       "       [1., 0., 0., 0., 1., 0., 0., 0., 1., 0., 1.],\n",
       "       [1., 0., 0., 1., 0., 0., 1., 0., 0., 0., 0.],\n",
       "       [1., 0., 0., 0., 1., 1., 0., 0., 0., 1., 0.],\n",
       "       [0., 1., 0., 1., 0., 0., 0., 1., 0., 0., 0.],\n",
       "       [0., 1., 0., 0., 1., 0., 0., 0., 0., 0., 1.],\n",
       "       [0., 1., 0., 1., 0., 1., 1., 0., 0., 0., 0.],\n",
       "       [0., 1., 0., 0., 1., 0., 0., 0., 0., 0., 1.],\n",
       "       [0., 1., 0., 1., 0., 0., 0., 0., 1., 0., 0.],\n",
       "       [0., 1., 0., 0., 1., 1., 0., 1., 0., 0., 0.],\n",
       "       [0., 1., 0., 1., 0., 0., 1., 0., 0., 1., 0.],\n",
       "       [0., 1., 0., 0., 1., 0., 0., 0., 0., 0., 1.],\n",
       "       [0., 1., 0., 1., 0., 1., 0., 0., 0., 0., 0.],\n",
       "       [0., 1., 0., 0., 1., 0., 0., 0., 0., 0., 1.],\n",
       "       [0., 0., 1., 1., 0., 0., 1., 1., 0., 0., 0.],\n",
       "       [0., 0., 1., 0., 1., 1., 0., 0., 1., 0., 0.],\n",
       "       [0., 0., 1., 1., 0., 0., 0., 0., 0., 0., 0.],\n",
       "       [0., 0., 1., 0., 1., 0., 0., 0., 0., 0., 1.],\n",
       "       [0., 0., 1., 1., 0., 1., 1., 0., 0., 0., 0.],\n",
       "       [0., 0., 1., 0., 1., 0., 0., 1., 0., 1., 0.],\n",
       "       [0., 0., 1., 1., 0., 0., 0., 0., 0., 0., 0.],\n",
       "       [0., 0., 1., 0., 1., 1., 0., 0., 0., 0., 0.],\n",
       "       [0., 0., 1., 1., 0., 0., 1., 0., 1., 0., 0.],\n",
       "       [0., 0., 1., 0., 1., 0., 0., 0., 0., 0., 1.]])"
      ]
     },
     "execution_count": 3,
     "metadata": {},
     "output_type": "execute_result"
    }
   ],
   "source": [
    "# features: small; medium; large; even; odd; mult3; mult4; mult5; mult7; square; prime\n",
    "nums = 30 # we'll go through the number 30\n",
    "\n",
    "featmtx = np.zeros((nums-2,11)) # \n",
    "\n",
    "for i in range(2,nums): # we don't want to include 0 or 1\n",
    "    if i < 10: # if number is under 10\n",
    "        featmtx[i-2,0] = 1\n",
    "    if 10 <= i < 20: # if number is in 10s\n",
    "        featmtx[i-2,1] = 1\n",
    "    if 20 <= i < 30: # if number is in 20s\n",
    "        featmtx[i-2,2] = 1\n",
    "    if i%2 == 0: # if number is even\n",
    "        featmtx[i-2,3] = 1\n",
    "    if i%2 != 0: # if number is odd\n",
    "        featmtx[i-2,4] = 1\n",
    "    if i%3 == 0: # multiple of 3\n",
    "        featmtx[i-2,5] = 1\n",
    "    if i%4 == 0: # multiple of 4\n",
    "        featmtx[i-2,6] = 1\n",
    "    if i%5 == 0: # multiple of 5\n",
    "        featmtx[i-2,7] = 1\n",
    "    if i%7 == 0: # multiple of 7\n",
    "        featmtx[i-2,8] = 1\n",
    "    if np.sqrt(i).is_integer(): # if the number is a square\n",
    "        featmtx[i-2,9] = 1\n",
    "    if is_prime(i) == True: # if prime\n",
    "        featmtx[i-2,10] = 1\n",
    "\n",
    "featmtx        \n",
    "        "
   ]
  },
  {
   "cell_type": "code",
   "execution_count": 4,
   "metadata": {
    "collapsed": true
   },
   "outputs": [],
   "source": [
    "# pick out features that are in common for each number to create similarity matrix\n",
    "\n",
    "simmtx = np.zeros((nums-2,nums-2)) # empty similarity matrix\n",
    "\n",
    "for i in range(len(featmtx)):\n",
    "    for j in range(len(featmtx)):\n",
    "        sim = 0\n",
    "        for k,l in zip(featmtx[i],featmtx[j]):\n",
    "            if k == l == 1:\n",
    "                sim+= 1\n",
    "            simmtx[i,j] = simmtx[j,i] = sim # number of in common attributes\n",
    "\n",
    "simmtx = simmtx/11 # divide by total number of features we're counting"
   ]
  },
  {
   "cell_type": "code",
   "execution_count": 5,
   "metadata": {},
   "outputs": [
    {
     "data": {
      "text/plain": [
       "array([[0.27272727, 0.18181818, 0.18181818, 0.18181818, 0.18181818,\n",
       "        0.18181818, 0.18181818, 0.09090909, 0.09090909, 0.09090909,\n",
       "        0.09090909, 0.09090909, 0.09090909, 0.        , 0.09090909,\n",
       "        0.09090909, 0.09090909, 0.09090909, 0.09090909, 0.        ,\n",
       "        0.09090909, 0.09090909, 0.09090909, 0.        , 0.09090909,\n",
       "        0.        , 0.09090909, 0.09090909],\n",
       "       [0.18181818, 0.36363636, 0.09090909, 0.27272727, 0.18181818,\n",
       "        0.27272727, 0.09090909, 0.27272727, 0.        , 0.18181818,\n",
       "        0.09090909, 0.18181818, 0.        , 0.18181818, 0.        ,\n",
       "        0.18181818, 0.09090909, 0.18181818, 0.        , 0.18181818,\n",
       "        0.        , 0.18181818, 0.09090909, 0.09090909, 0.        ,\n",
       "        0.18181818, 0.        , 0.18181818],\n",
       "       [0.18181818, 0.09090909, 0.36363636, 0.09090909, 0.18181818,\n",
       "        0.09090909, 0.27272727, 0.18181818, 0.09090909, 0.        ,\n",
       "        0.18181818, 0.        , 0.09090909, 0.        , 0.27272727,\n",
       "        0.        , 0.09090909, 0.        , 0.18181818, 0.        ,\n",
       "        0.09090909, 0.        , 0.18181818, 0.09090909, 0.09090909,\n",
       "        0.        , 0.18181818, 0.        ],\n",
       "       [0.18181818, 0.27272727, 0.09090909, 0.36363636, 0.09090909,\n",
       "        0.27272727, 0.09090909, 0.18181818, 0.09090909, 0.18181818,\n",
       "        0.        , 0.18181818, 0.        , 0.18181818, 0.        ,\n",
       "        0.18181818, 0.        , 0.18181818, 0.09090909, 0.09090909,\n",
       "        0.        , 0.18181818, 0.        , 0.18181818, 0.        ,\n",
       "        0.09090909, 0.        , 0.18181818],\n",
       "       [0.18181818, 0.18181818, 0.18181818, 0.09090909, 0.27272727,\n",
       "        0.09090909, 0.18181818, 0.18181818, 0.09090909, 0.        ,\n",
       "        0.18181818, 0.        , 0.09090909, 0.09090909, 0.09090909,\n",
       "        0.        , 0.18181818, 0.        , 0.09090909, 0.09090909,\n",
       "        0.09090909, 0.        , 0.18181818, 0.        , 0.09090909,\n",
       "        0.09090909, 0.09090909, 0.        ],\n",
       "       [0.18181818, 0.27272727, 0.09090909, 0.27272727, 0.09090909,\n",
       "        0.36363636, 0.09090909, 0.18181818, 0.        , 0.18181818,\n",
       "        0.        , 0.18181818, 0.09090909, 0.09090909, 0.        ,\n",
       "        0.18181818, 0.        , 0.18181818, 0.        , 0.18181818,\n",
       "        0.        , 0.18181818, 0.        , 0.09090909, 0.        ,\n",
       "        0.09090909, 0.09090909, 0.18181818],\n",
       "       [0.18181818, 0.09090909, 0.27272727, 0.09090909, 0.18181818,\n",
       "        0.09090909, 0.27272727, 0.09090909, 0.09090909, 0.        ,\n",
       "        0.18181818, 0.        , 0.09090909, 0.        , 0.18181818,\n",
       "        0.        , 0.09090909, 0.        , 0.18181818, 0.        ,\n",
       "        0.09090909, 0.        , 0.18181818, 0.        , 0.09090909,\n",
       "        0.        , 0.18181818, 0.        ],\n",
       "       [0.09090909, 0.27272727, 0.18181818, 0.18181818, 0.18181818,\n",
       "        0.18181818, 0.09090909, 0.36363636, 0.        , 0.09090909,\n",
       "        0.09090909, 0.09090909, 0.        , 0.18181818, 0.09090909,\n",
       "        0.09090909, 0.09090909, 0.09090909, 0.        , 0.18181818,\n",
       "        0.        , 0.09090909, 0.09090909, 0.18181818, 0.        ,\n",
       "        0.18181818, 0.        , 0.09090909],\n",
       "       [0.09090909, 0.        , 0.09090909, 0.09090909, 0.09090909,\n",
       "        0.        , 0.09090909, 0.        , 0.27272727, 0.09090909,\n",
       "        0.18181818, 0.09090909, 0.18181818, 0.18181818, 0.18181818,\n",
       "        0.09090909, 0.18181818, 0.09090909, 0.18181818, 0.        ,\n",
       "        0.09090909, 0.        , 0.09090909, 0.09090909, 0.09090909,\n",
       "        0.        , 0.09090909, 0.        ],\n",
       "       [0.09090909, 0.18181818, 0.        , 0.18181818, 0.        ,\n",
       "        0.18181818, 0.        , 0.09090909, 0.09090909, 0.27272727,\n",
       "        0.09090909, 0.27272727, 0.09090909, 0.18181818, 0.09090909,\n",
       "        0.27272727, 0.09090909, 0.27272727, 0.        , 0.09090909,\n",
       "        0.        , 0.18181818, 0.        , 0.09090909, 0.        ,\n",
       "        0.09090909, 0.        , 0.18181818],\n",
       "       [0.09090909, 0.09090909, 0.18181818, 0.        , 0.18181818,\n",
       "        0.        , 0.18181818, 0.09090909, 0.18181818, 0.09090909,\n",
       "        0.36363636, 0.09090909, 0.18181818, 0.18181818, 0.27272727,\n",
       "        0.09090909, 0.27272727, 0.09090909, 0.18181818, 0.09090909,\n",
       "        0.09090909, 0.        , 0.27272727, 0.        , 0.09090909,\n",
       "        0.09090909, 0.18181818, 0.        ],\n",
       "       [0.09090909, 0.18181818, 0.        , 0.18181818, 0.        ,\n",
       "        0.18181818, 0.        , 0.09090909, 0.09090909, 0.27272727,\n",
       "        0.09090909, 0.27272727, 0.09090909, 0.18181818, 0.09090909,\n",
       "        0.27272727, 0.09090909, 0.27272727, 0.        , 0.09090909,\n",
       "        0.        , 0.18181818, 0.        , 0.09090909, 0.        ,\n",
       "        0.09090909, 0.        , 0.18181818],\n",
       "       [0.09090909, 0.        , 0.09090909, 0.        , 0.09090909,\n",
       "        0.09090909, 0.09090909, 0.        , 0.18181818, 0.09090909,\n",
       "        0.18181818, 0.09090909, 0.27272727, 0.09090909, 0.18181818,\n",
       "        0.09090909, 0.18181818, 0.09090909, 0.09090909, 0.09090909,\n",
       "        0.09090909, 0.        , 0.09090909, 0.        , 0.09090909,\n",
       "        0.        , 0.18181818, 0.        ],\n",
       "       [0.        , 0.18181818, 0.        , 0.18181818, 0.09090909,\n",
       "        0.09090909, 0.        , 0.18181818, 0.18181818, 0.18181818,\n",
       "        0.18181818, 0.18181818, 0.09090909, 0.36363636, 0.09090909,\n",
       "        0.18181818, 0.18181818, 0.18181818, 0.09090909, 0.18181818,\n",
       "        0.        , 0.09090909, 0.09090909, 0.18181818, 0.        ,\n",
       "        0.18181818, 0.        , 0.09090909],\n",
       "       [0.09090909, 0.        , 0.27272727, 0.        , 0.09090909,\n",
       "        0.        , 0.18181818, 0.09090909, 0.18181818, 0.09090909,\n",
       "        0.27272727, 0.09090909, 0.18181818, 0.09090909, 0.36363636,\n",
       "        0.09090909, 0.18181818, 0.09090909, 0.18181818, 0.        ,\n",
       "        0.09090909, 0.        , 0.18181818, 0.09090909, 0.09090909,\n",
       "        0.        , 0.18181818, 0.        ],\n",
       "       [0.09090909, 0.18181818, 0.        , 0.18181818, 0.        ,\n",
       "        0.18181818, 0.        , 0.09090909, 0.09090909, 0.27272727,\n",
       "        0.09090909, 0.27272727, 0.09090909, 0.18181818, 0.09090909,\n",
       "        0.27272727, 0.09090909, 0.27272727, 0.        , 0.09090909,\n",
       "        0.        , 0.18181818, 0.        , 0.09090909, 0.        ,\n",
       "        0.09090909, 0.        , 0.18181818],\n",
       "       [0.09090909, 0.09090909, 0.09090909, 0.        , 0.18181818,\n",
       "        0.        , 0.09090909, 0.09090909, 0.18181818, 0.09090909,\n",
       "        0.27272727, 0.09090909, 0.18181818, 0.18181818, 0.18181818,\n",
       "        0.09090909, 0.27272727, 0.09090909, 0.09090909, 0.09090909,\n",
       "        0.09090909, 0.        , 0.18181818, 0.        , 0.09090909,\n",
       "        0.09090909, 0.09090909, 0.        ],\n",
       "       [0.09090909, 0.18181818, 0.        , 0.18181818, 0.        ,\n",
       "        0.18181818, 0.        , 0.09090909, 0.09090909, 0.27272727,\n",
       "        0.09090909, 0.27272727, 0.09090909, 0.18181818, 0.09090909,\n",
       "        0.27272727, 0.09090909, 0.27272727, 0.        , 0.09090909,\n",
       "        0.        , 0.18181818, 0.        , 0.09090909, 0.        ,\n",
       "        0.09090909, 0.        , 0.18181818],\n",
       "       [0.09090909, 0.        , 0.18181818, 0.09090909, 0.09090909,\n",
       "        0.        , 0.18181818, 0.        , 0.18181818, 0.        ,\n",
       "        0.18181818, 0.        , 0.09090909, 0.09090909, 0.18181818,\n",
       "        0.        , 0.09090909, 0.        , 0.36363636, 0.09090909,\n",
       "        0.18181818, 0.09090909, 0.27272727, 0.18181818, 0.18181818,\n",
       "        0.09090909, 0.27272727, 0.09090909],\n",
       "       [0.        , 0.18181818, 0.        , 0.09090909, 0.09090909,\n",
       "        0.18181818, 0.        , 0.18181818, 0.        , 0.09090909,\n",
       "        0.09090909, 0.09090909, 0.09090909, 0.18181818, 0.        ,\n",
       "        0.09090909, 0.09090909, 0.09090909, 0.09090909, 0.36363636,\n",
       "        0.09090909, 0.18181818, 0.18181818, 0.18181818, 0.09090909,\n",
       "        0.27272727, 0.18181818, 0.18181818],\n",
       "       [0.09090909, 0.        , 0.09090909, 0.        , 0.09090909,\n",
       "        0.        , 0.09090909, 0.        , 0.09090909, 0.        ,\n",
       "        0.09090909, 0.        , 0.09090909, 0.        , 0.09090909,\n",
       "        0.        , 0.09090909, 0.        , 0.18181818, 0.09090909,\n",
       "        0.18181818, 0.09090909, 0.18181818, 0.09090909, 0.18181818,\n",
       "        0.09090909, 0.18181818, 0.09090909],\n",
       "       [0.09090909, 0.18181818, 0.        , 0.18181818, 0.        ,\n",
       "        0.18181818, 0.        , 0.09090909, 0.        , 0.18181818,\n",
       "        0.        , 0.18181818, 0.        , 0.09090909, 0.        ,\n",
       "        0.18181818, 0.        , 0.18181818, 0.09090909, 0.18181818,\n",
       "        0.09090909, 0.27272727, 0.09090909, 0.18181818, 0.09090909,\n",
       "        0.18181818, 0.09090909, 0.27272727],\n",
       "       [0.09090909, 0.09090909, 0.18181818, 0.        , 0.18181818,\n",
       "        0.        , 0.18181818, 0.09090909, 0.09090909, 0.        ,\n",
       "        0.27272727, 0.        , 0.09090909, 0.09090909, 0.18181818,\n",
       "        0.        , 0.18181818, 0.        , 0.27272727, 0.18181818,\n",
       "        0.18181818, 0.09090909, 0.36363636, 0.09090909, 0.18181818,\n",
       "        0.18181818, 0.27272727, 0.09090909],\n",
       "       [0.        , 0.09090909, 0.09090909, 0.18181818, 0.        ,\n",
       "        0.09090909, 0.        , 0.18181818, 0.09090909, 0.09090909,\n",
       "        0.        , 0.09090909, 0.        , 0.18181818, 0.09090909,\n",
       "        0.09090909, 0.        , 0.09090909, 0.18181818, 0.18181818,\n",
       "        0.09090909, 0.18181818, 0.09090909, 0.36363636, 0.09090909,\n",
       "        0.18181818, 0.09090909, 0.18181818],\n",
       "       [0.09090909, 0.        , 0.09090909, 0.        , 0.09090909,\n",
       "        0.        , 0.09090909, 0.        , 0.09090909, 0.        ,\n",
       "        0.09090909, 0.        , 0.09090909, 0.        , 0.09090909,\n",
       "        0.        , 0.09090909, 0.        , 0.18181818, 0.09090909,\n",
       "        0.18181818, 0.09090909, 0.18181818, 0.09090909, 0.18181818,\n",
       "        0.09090909, 0.18181818, 0.09090909],\n",
       "       [0.        , 0.18181818, 0.        , 0.09090909, 0.09090909,\n",
       "        0.09090909, 0.        , 0.18181818, 0.        , 0.09090909,\n",
       "        0.09090909, 0.09090909, 0.        , 0.18181818, 0.        ,\n",
       "        0.09090909, 0.09090909, 0.09090909, 0.09090909, 0.27272727,\n",
       "        0.09090909, 0.18181818, 0.18181818, 0.18181818, 0.09090909,\n",
       "        0.27272727, 0.09090909, 0.18181818],\n",
       "       [0.09090909, 0.        , 0.18181818, 0.        , 0.09090909,\n",
       "        0.09090909, 0.18181818, 0.        , 0.09090909, 0.        ,\n",
       "        0.18181818, 0.        , 0.18181818, 0.        , 0.18181818,\n",
       "        0.        , 0.09090909, 0.        , 0.27272727, 0.18181818,\n",
       "        0.18181818, 0.09090909, 0.27272727, 0.09090909, 0.18181818,\n",
       "        0.09090909, 0.36363636, 0.09090909],\n",
       "       [0.09090909, 0.18181818, 0.        , 0.18181818, 0.        ,\n",
       "        0.18181818, 0.        , 0.09090909, 0.        , 0.18181818,\n",
       "        0.        , 0.18181818, 0.        , 0.09090909, 0.        ,\n",
       "        0.18181818, 0.        , 0.18181818, 0.09090909, 0.18181818,\n",
       "        0.09090909, 0.27272727, 0.09090909, 0.18181818, 0.09090909,\n",
       "        0.18181818, 0.09090909, 0.27272727]])"
      ]
     },
     "execution_count": 5,
     "metadata": {},
     "output_type": "execute_result"
    }
   ],
   "source": [
    "simmtx"
   ]
  },
  {
   "cell_type": "code",
   "execution_count": 6,
   "metadata": {},
   "outputs": [
    {
     "data": {
      "text/plain": [
       "Text(0.5,1,'Multidimensional scaling')"
      ]
     },
     "execution_count": 6,
     "metadata": {},
     "output_type": "execute_result"
    },
    {
     "data": {
      "image/png": "[encoded data removed]",
      "text/plain": [
       "<matplotlib.figure.Figure at 0x10f9c8278>"
      ]
     },
     "metadata": {},
     "output_type": "display_data"
    }
   ],
   "source": [
    "# create the figure\n",
    "fig, axis = plt.subplots(figsize=(10,10))\n",
    "\n",
    "points = mds(1 - simmtx)\n",
    "axis.plot(points[:, 0], points[:, 1], 'ko')\n",
    "axis.set_xlim(-1, 1)\n",
    "axis.set_ylim(-1, 1)\n",
    "\n",
    "for name, point in zip(range(2,30), points):\n",
    "    axis.text(point[0], point[1], \"  {}\".format(name))\n",
    "    \n",
    "axis.set_title(\"Multidimensional scaling\")\n",
    "#savefig('Plots/MDS_total.png')"
   ]
  },
  {
   "cell_type": "code",
   "execution_count": 7,
   "metadata": {},
   "outputs": [
    {
     "name": "stdout",
     "output_type": "stream",
     "text": [
      "10\n",
      "10\n"
     ]
    }
   ],
   "source": [
    "nums1 = [5, 8, 9, 11, 14, 16, 18, 20, 21, 29]\n",
    "nums2 = [4, 6, 7, 10, 12, 13, 17, 25, 27, 28]\n",
    "featmtx1 = [featmtx[i-2] for i in nums1]\n",
    "featmtx2 = [featmtx[i-2] for i in nums2]\n",
    "\n",
    "print(len(featmtx1))\n",
    "print(len(featmtx2))"
   ]
  },
  {
   "cell_type": "code",
   "execution_count": 8,
   "metadata": {
    "collapsed": true
   },
   "outputs": [],
   "source": [
    "# create two similarity matrices based on both measures\n",
    "\n",
    "simmtx1 = np.zeros((10,10)) # empty similarity matrix\n",
    "\n",
    "for i in range(len(featmtx1)):\n",
    "    for j in range(len(featmtx1)):\n",
    "        sim = 0\n",
    "        for k,l in zip(featmtx1[i],featmtx1[j]):\n",
    "            if k == l == 1:\n",
    "                sim+= 1\n",
    "            simmtx1[i,j] = simmtx1[j,i] = sim \n",
    "\n",
    "simmtx1 = simmtx1/11 \n",
    "\n",
    "simmtx2 = np.zeros((10,10)) # empty similarity matrix\n",
    "\n",
    "for i in range(len(featmtx2)):\n",
    "    for j in range(len(featmtx2)):\n",
    "        sim = 0\n",
    "        for k,l in zip(featmtx2[i],featmtx2[j]):\n",
    "            if k == l == 1:\n",
    "                sim+= 1\n",
    "            simmtx2[i,j] = simmtx2[j,i] = sim\n",
    "\n",
    "simmtx2 = simmtx2/11 "
   ]
  },
  {
   "cell_type": "code",
   "execution_count": 9,
   "metadata": {},
   "outputs": [
    {
     "data": {
      "text/plain": [
       "Text(0.5,1,'Multidimensional scaling')"
      ]
     },
     "execution_count": 9,
     "metadata": {},
     "output_type": "execute_result"
    },
    {
     "data": {
      "image/png": "[encoded data removed]",
      "text/plain": [
       "<matplotlib.figure.Figure at 0x10fc9c710>"
      ]
     },
     "metadata": {},
     "output_type": "display_data"
    }
   ],
   "source": [
    "fig, axis = plt.subplots(figsize=(10,10))\n",
    "\n",
    "points = mds(1 - simmtx1)\n",
    "axis.plot(points[:, 0], points[:, 1], 'ko')\n",
    "axis.set_xlim(-1, 1)\n",
    "axis.set_ylim(-1, 1)\n",
    "\n",
    "for name, point in zip(nums1, points):\n",
    "    axis.text(point[0], point[1], \"  {}\".format(name))\n",
    "    \n",
    "axis.set_title(\"Multidimensional scaling\")\n",
    "#savefig('figs/MDS_1.png')"
   ]
  },
  {
   "cell_type": "code",
   "execution_count": 10,
   "metadata": {},
   "outputs": [
    {
     "data": {
      "text/plain": [
       "Text(0.5,1,'Multidimensional scaling')"
      ]
     },
     "execution_count": 10,
     "metadata": {},
     "output_type": "execute_result"
    },
    {
     "data": {
      "image/png": "[encoded data removed]",
      "text/plain": [
       "<matplotlib.figure.Figure at 0x10fc9c160>"
      ]
     },
     "metadata": {},
     "output_type": "display_data"
    }
   ],
   "source": [
    "import matplotlib.pyplot as plt\n",
    "\n",
    "# create the figure\n",
    "fig, axis = plt.subplots(figsize=(10,10))\n",
    "\n",
    "points = mds(1 - simmtx2)\n",
    "axis.plot(points[:, 0], points[:, 1], 'ko')\n",
    "axis.set_xlim(-1, 1)\n",
    "axis.set_ylim(-1, 1)\n",
    "\n",
    "for name, point in zip(nums2, points):\n",
    "    axis.text(point[0], point[1], \"  {}\".format(name))\n",
    "    \n",
    "axis.set_title(\"Multidimensional scaling\")\n",
    "#savefig('figs/MDS_2.png')"
   ]
  },
  {
   "cell_type": "code",
   "execution_count": null,
   "metadata": {
    "collapsed": true
   },
   "outputs": [],
   "source": []
  }
 ],
 "metadata": {
  "anaconda-cloud": {},
  "kernelspec": {
   "display_name": "Python [Root]",
   "language": "python",
   "name": "Python [Root]"
  },
  "language_info": {
   "codemirror_mode": {
    "name": "ipython",
    "version": 3
   },
   "file_extension": ".py",
   "mimetype": "text/x-python",
   "name": "python",
   "nbconvert_exporter": "python",
   "pygments_lexer": "ipython3",
   "version": "3.5.3"
  }
 },
 "nbformat": 4,
 "nbformat_minor": 2
}
